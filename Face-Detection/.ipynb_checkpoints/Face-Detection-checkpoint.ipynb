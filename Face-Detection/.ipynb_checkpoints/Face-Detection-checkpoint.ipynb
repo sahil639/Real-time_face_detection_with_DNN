{
 "cells": [
  {
   "cell_type": "code",
   "execution_count": 5,
   "id": "811b6c7a",
   "metadata": {},
   "outputs": [],
   "source": [
    "import numpy as np\n",
    "import cv2"
   ]
  },
  {
   "cell_type": "markdown",
   "id": "45950c53",
   "metadata": {},
   "source": [
    "# Face Detection"
   ]
  },
  {
   "cell_type": "code",
   "execution_count": 6,
   "id": "c92ee1a7",
   "metadata": {},
   "outputs": [],
   "source": [
    "img = cv2.imread('faces.jpg')\n",
    "img2 = cv2.imread('shrek-face.jpg')\n",
    "img3 = cv2.imread('luffy-face.jpg')\n",
    "\n",
    "cv2.imshow('face',img)\n",
    "cv2.imshow('face2',img2)\n",
    "cv2.imshow('face3',img3)\n",
    "cv2.waitKey(0)\n",
    "cv2.destroyAllWindows()"
   ]
  },
  {
   "cell_type": "code",
   "execution_count": 7,
   "id": "f1b5e3ff",
   "metadata": {},
   "outputs": [],
   "source": [
    "face_cascade = cv2.CascadeClassifier('./model/haarcascade_frontalface_default.xml')"
   ]
  },
  {
   "cell_type": "code",
   "execution_count": 8,
   "id": "852c1e81",
   "metadata": {},
   "outputs": [],
   "source": [
    "def face_detection(img):\n",
    "    \n",
    "    image = img.copy()\n",
    "    green = (0,255,0)\n",
    "\n",
    "    # step1 : convert image to grayscale\n",
    "\n",
    "    gray = cv2.cvtColor(img, cv2.COLOR_BGR2GRAY)\n",
    "\n",
    "    # step2 : apply grayscale image cascade classifier\n",
    "\n",
    "    box,detections = face_cascade.detectMultiScale2(gray, minNeighbors=8)\n",
    "\n",
    "    #step 3: bounding box for the detection\n",
    "\n",
    "    for x,y,w,h in box:\n",
    "        cv2.rectangle(image, (x,y),(x+w,y+h),green,1)\n",
    "        \n",
    "    return image\n",
    "    \n"
   ]
  },
  {
   "cell_type": "code",
   "execution_count": 9,
   "id": "edd90798",
   "metadata": {},
   "outputs": [],
   "source": [
    "image_detect = face_detection(img2)\n",
    "\n",
    "cv2.imshow('face detection', image_detect)\n",
    "cv2.waitKey(0)\n",
    "cv2.destroyAllWindows()"
   ]
  },
  {
   "cell_type": "markdown",
   "id": "3d652021",
   "metadata": {},
   "source": [
    "# REAL-TIME Face Detection"
   ]
  },
  {
   "cell_type": "code",
   "execution_count": 10,
   "id": "e2250cd4",
   "metadata": {},
   "outputs": [],
   "source": [
    "cap = cv2.VideoCapture(0)\n",
    "\n",
    "face_cascade = cv2.CascadeClassifier('./model/haarcascade_frontalface_default.xml')\n",
    "while True:\n",
    "    ret,frame = cap.read()\n",
    "    if ret == False:\n",
    "         break\n",
    "            \n",
    "    img_detect = face_detection(frame)\n",
    "    \n",
    "    cv2.imshow('Real Time Face Detection',img_detect)\n",
    "    if cv2.waitKey(1) == ord('a'):\n",
    "        break\n",
    "        \n",
    "cap.release()\n",
    "cv2.destroyAllWindows()"
   ]
  }
 ],
 "metadata": {
  "kernelspec": {
   "display_name": "Python 3",
   "language": "python",
   "name": "python3"
  },
  "language_info": {
   "codemirror_mode": {
    "name": "ipython",
    "version": 3
   },
   "file_extension": ".py",
   "mimetype": "text/x-python",
   "name": "python",
   "nbconvert_exporter": "python",
   "pygments_lexer": "ipython3",
   "version": "3.8.8"
  }
 },
 "nbformat": 4,
 "nbformat_minor": 5
}
