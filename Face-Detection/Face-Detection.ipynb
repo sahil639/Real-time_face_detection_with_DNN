{
 "cells": [
  {
   "cell_type": "code",
   "execution_count": 30,
   "id": "811b6c7a",
   "metadata": {},
   "outputs": [],
   "source": [
    "import numpy as np\n",
    "import cv2"
   ]
  },
  {
   "cell_type": "code",
   "execution_count": 47,
   "id": "c92ee1a7",
   "metadata": {},
   "outputs": [],
   "source": [
    "img = cv2.imread('faces.jpg')\n",
    "img2 = cv2.imread('shrek-face.jpg')\n",
    "img3 = cv2.imread('luffy-face.jpg')\n",
    "\n",
    "cv2.imshow('face',img)\n",
    "cv2.imshow('face2',img2)\n",
    "cv2.imshow('face3',img3)\n",
    "cv2.waitKey(0)\n",
    "cv2.destroyAllWindows()"
   ]
  },
  {
   "cell_type": "code",
   "execution_count": 48,
   "id": "f1b5e3ff",
   "metadata": {},
   "outputs": [],
   "source": [
    "face_cascade = cv2.CascadeClassifier('./model/haarcascade_frontalface_default.xml')"
   ]
  },
  {
   "cell_type": "code",
   "execution_count": 55,
   "id": "852c1e81",
   "metadata": {},
   "outputs": [],
   "source": [
    "def face_detection(img):\n",
    "    \n",
    "    image = img.copy()\n",
    "    green = (0,255,0)\n",
    "\n",
    "    # step1 : convert image to grayscale\n",
    "\n",
    "    gray = cv2.cvtColor(img, cv2.COLOR_BGR2GRAY)\n",
    "\n",
    "    # step2 : apply grayscale image cascade classifier\n",
    "\n",
    "    box,detections = face_cascade.detectMultiScale2(gray, minNeighbors=8)\n",
    "\n",
    "    #step 3: bounding box for the detection\n",
    "\n",
    "    for x,y,w,h in box:\n",
    "        cv2.rectangle(image, (x,y),(x+w,y+h),green,1)\n",
    "        \n",
    "    return image\n",
    "    \n"
   ]
  },
  {
   "cell_type": "code",
   "execution_count": 56,
   "id": "edd90798",
   "metadata": {},
   "outputs": [],
   "source": [
    "image_detect = face_detection(img2)\n",
    "\n",
    "cv2.imshow('face detection', image_detect)\n",
    "cv2.waitKey(0)\n",
    "cv2.destroyAllWindows()"
   ]
  },
  {
   "cell_type": "code",
   "execution_count": null,
   "id": "e2250cd4",
   "metadata": {},
   "outputs": [],
   "source": []
  }
 ],
 "metadata": {
  "kernelspec": {
   "display_name": "Python 3",
   "language": "python",
   "name": "python3"
  },
  "language_info": {
   "codemirror_mode": {
    "name": "ipython",
    "version": 3
   },
   "file_extension": ".py",
   "mimetype": "text/x-python",
   "name": "python",
   "nbconvert_exporter": "python",
   "pygments_lexer": "ipython3",
   "version": "3.8.8"
  }
 },
 "nbformat": 4,
 "nbformat_minor": 5
}
