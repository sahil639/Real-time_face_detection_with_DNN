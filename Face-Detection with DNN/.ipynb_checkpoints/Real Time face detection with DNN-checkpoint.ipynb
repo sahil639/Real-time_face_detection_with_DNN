{
 "cells": [
  {
   "cell_type": "code",
   "execution_count": 2,
   "id": "d4ebd9c8",
   "metadata": {},
   "outputs": [],
   "source": [
    "import numpy as np\n",
    "import cv2"
   ]
  },
  {
   "cell_type": "code",
   "execution_count": 7,
   "id": "0126ae1e",
   "metadata": {},
   "outputs": [],
   "source": [
    "img = cv2.imread('sigma-face2.jpg')\n",
    "\n",
    "cv2.imshow('face', img)\n",
    "cv2.waitKey(0)\n",
    "cv2.destroyAllWindows()"
   ]
  },
  {
   "cell_type": "code",
   "execution_count": 8,
   "id": "b52306e6",
   "metadata": {
    "scrolled": true
   },
   "outputs": [],
   "source": [
    "face_detection_model = cv2.dnn.readNetFromCaffe('./model/deploy.prototxt.txt',\n",
    "                                               './model/res10_300x300_ssd_iter_140000_fp16.caffemodel')"
   ]
  },
  {
   "cell_type": "code",
   "execution_count": 13,
   "id": "32a980aa",
   "metadata": {},
   "outputs": [],
   "source": [
    "\n",
    "def face_detection_dnn(img):\n",
    "    #step-1 blob from image\n",
    "\n",
    "    blob = cv2.dnn.blobFromImage(img,1,(300,300),(104,177,123),swapRB=True)\n",
    "\n",
    "    #step-2: set blob as input\n",
    "\n",
    "    face_detection_model.setInput(blob)\n",
    "\n",
    "    #step-3: get the ouput\n",
    "\n",
    "    detections = face_detection_model.forward()\n",
    "\n",
    "    #step4: drawing bounding box on top of face detected\n",
    "\n",
    "    image = img.copy()\n",
    "    h,w = image.shape[:2]\n",
    "    for i in range(0,detections.shape[2]):\n",
    "        confidence =detections[0,0,i,2]\n",
    "        if confidence > 0.5 :\n",
    "           #diagonal points 3:7\n",
    "           box = detections[0,0,i,3:7]*np.array([w,h,w,h])\n",
    "           box =  box.astype('int')\n",
    "           pt1 = (box[0],box[1])\n",
    "           pt2 = (box[2],box[3])\n",
    "           #draw rectangle\n",
    "           cv2.rectangle(image,pt1,pt2,(0,255,0),1)\n",
    "\n",
    "           text = 'score: {:.0f} %'.format(confidence*100)\n",
    "           cv2.putText(image,text,pt1,cv2.FONT_HERSHEY_SIMPLEX,1,(0,255,0),2)\n",
    "\n",
    "    return image\n"
   ]
  },
  {
   "cell_type": "code",
   "execution_count": 14,
   "id": "64cbf025",
   "metadata": {
    "scrolled": false
   },
   "outputs": [],
   "source": [
    "img_detect = face_detection_dnn(img)"
   ]
  },
  {
   "cell_type": "code",
   "execution_count": 17,
   "id": "dd13b961",
   "metadata": {},
   "outputs": [],
   "source": [
    "cv2.imshow('face_detection dnn', img_detect)\n",
    "cv2.waitKey(0)\n",
    "cv2.destroyAllWindows()"
   ]
  },
  {
   "cell_type": "markdown",
   "id": "c0e20036",
   "metadata": {},
   "source": [
    "REAL TIME FACE DETECTION WITH DNN"
   ]
  },
  {
   "cell_type": "code",
   "execution_count": 21,
   "id": "c663a99e",
   "metadata": {},
   "outputs": [],
   "source": [
    "cap = cv2.VideoCapture(0)\n",
    "\n",
    "face_detection_model = cv2.dnn.readNetFromCaffe('./model/deploy.prototxt.txt',\n",
    "                                               './model/res10_300x300_ssd_iter_140000_fp16.caffemodel')\n",
    "\n",
    "while True:\n",
    "    ret,frame = cap.read()\n",
    "    \n",
    "    if ret == False:\n",
    "        break\n",
    "        \n",
    "        \n",
    "    img_detection = face_detection_dnn(frame)\n",
    "    \n",
    "    cv2.imshow('Real Time Face Detection with DNN', img_detection)\n",
    "    if cv2.waitKey(1) == ord('a'):\n",
    "        break\n",
    "        \n",
    "cap.release()\n",
    "cv2.destroyAllWindows()"
   ]
  },
  {
   "cell_type": "code",
   "execution_count": null,
   "id": "9d43752b",
   "metadata": {},
   "outputs": [],
   "source": []
  }
 ],
 "metadata": {
  "kernelspec": {
   "display_name": "Python 3",
   "language": "python",
   "name": "python3"
  },
  "language_info": {
   "codemirror_mode": {
    "name": "ipython",
    "version": 3
   },
   "file_extension": ".py",
   "mimetype": "text/x-python",
   "name": "python",
   "nbconvert_exporter": "python",
   "pygments_lexer": "ipython3",
   "version": "3.8.8"
  }
 },
 "nbformat": 4,
 "nbformat_minor": 5
}
